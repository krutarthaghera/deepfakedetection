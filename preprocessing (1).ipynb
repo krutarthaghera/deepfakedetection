{
  "nbformat": 4,
  "nbformat_minor": 0,
  "metadata": {
    "colab": {
      "provenance": []
    },
    "kernelspec": {
      "name": "python3",
      "display_name": "Python 3"
    },
    "accelerator": "GPU"
  },
  "cells": [
    {
      "cell_type": "code",
      "source": [
        "import os\n",
        "os.environ['KAGGLE_CONFIG_DIR'] = '/content/'"
      ],
      "metadata": {
        "id": "-3Jl6gjzWA_j"
      },
      "execution_count": null,
      "outputs": []
    },
    {
      "cell_type": "code",
      "source": [
        "!kaggle competitions download -c deepfake-detection-challenge"
      ],
      "metadata": {
        "colab": {
          "base_uri": "https://localhost:8080/"
        },
        "id": "D7ZHwQ0lWEa0",
        "outputId": "79f9433c-d014-4764-e49f-07e477ab7d0f"
      },
      "execution_count": null,
      "outputs": [
        {
          "output_type": "stream",
          "name": "stdout",
          "text": [
            "Warning: Your Kaggle API key is readable by other users on this system! To fix this, you can run 'chmod 600 /content/kaggle.json'\n",
            "Downloading deepfake-detection-challenge.zip to /content\n",
            " 99% 4.11G/4.13G [00:32<00:00, 223MB/s]\n",
            "100% 4.13G/4.13G [00:32<00:00, 136MB/s]\n"
          ]
        }
      ]
    },
    {
      "cell_type": "code",
      "metadata": {
        "id": "YjtnZQkTu6tX"
      },
      "source": [
        "#Mount our google drive\n",
        "from google.colab import drive\n",
        "drive.mount('/content/drive')"
      ],
      "execution_count": null,
      "outputs": []
    },
    {
      "cell_type": "code",
      "metadata": {
        "id": "1f40EeRuvAkO"
      },
      "source": [
        "import json\n",
        "import glob\n",
        "import numpy as np\n",
        "import cv2\n",
        "import copy\n",
        "\n",
        "video_files =  glob.glob('/content/Real videos/*.mp4')\n",
        "frame_count = []\n",
        "\n",
        "for video_file in video_files:\n",
        "  cap = cv2.VideoCapture(video_file)\n",
        "  if(int(cap.get(cv2.CAP_PROP_FRAME_COUNT))<150):\n",
        "    video_files.remove(video_file)\n",
        "    continue\n",
        "  frame_count.append(int(cap.get(cv2.CAP_PROP_FRAME_COUNT)))\n",
        "\n",
        "\n",
        "print(\"frames\" , frame_count)\n",
        "print(\"Total number of videos: \" , len(frame_count))\n",
        "print('Average frame per video:',np.mean(frame_count))"
      ],
      "execution_count": null,
      "outputs": []
    },
    {
      "cell_type": "code",
      "metadata": {
        "id": "U92Ovn3JvV52"
      },
      "source": [
        "# to extract frames\n",
        "def frame_extract(path):\n",
        "    vidObj = cv2.VideoCapture(path)\n",
        "    success = True\n",
        "    while success:\n",
        "        success, image = vidObj.read()\n",
        "        if success:\n",
        "            yield image\n",
        "\n",
        "!pip3 install face_recognition\n",
        "!mkdir '/content/drive/My Drive/DFDC_Face_only_data'\n",
        "\n",
        "import torch\n",
        "import torchvision\n",
        "from torchvision import transforms\n",
        "from torch.utils.data import DataLoader\n",
        "from torch.utils.data.dataset import Dataset\n",
        "import os\n",
        "import numpy as np\n",
        "import cv2\n",
        "import matplotlib.pyplot as plt\n",
        "import face_recognition\n",
        "from tqdm.autonotebook import tqdm\n",
        "\n",
        "# process the frames\n",
        "def create_face_videos(path_list, out_dir):\n",
        "    already_present_count = len(glob.glob(out_dir + '*.mp4'))\n",
        "    print(\"Number of videos already present: \", already_present_count)\n",
        "    for path in tqdm(path_list):\n",
        "        out_path = os.path.join(out_dir, os.path.split(path)[-1])\n",
        "        file_exists = glob.glob(out_path)\n",
        "        if len(file_exists) != 0:\n",
        "            print(\"File already exists:\", out_path)\n",
        "            continue\n",
        "        frames = []\n",
        "        flag = 0\n",
        "        face_all = []\n",
        "        frames1 = []\n",
        "        out = cv2.VideoWriter(out_path, cv2.VideoWriter_fourcc('M', 'J', 'P', 'G'), 30, (112, 112))\n",
        "        for idx, frame in enumerate(frame_extract(path)):\n",
        "            # if(idx % 3 == 0):\n",
        "            if idx <= 150:\n",
        "                frames.append(frame)\n",
        "                if len(frames) == 4:\n",
        "                    faces = face_recognition.batch_face_locations(frames)\n",
        "                    for i, face in enumerate(faces):\n",
        "                        if len(face) != 0:\n",
        "                            top, right, bottom, left = face[0]\n",
        "                        try:\n",
        "                            out.write(cv2.resize(frames[i][top:bottom, left:right, :], (112, 112)))\n",
        "                        except:\n",
        "                            pass\n",
        "                    frames = []\n",
        "        try:\n",
        "            del top, right, bottom, left\n",
        "        except:\n",
        "            pass\n",
        "        out.release()\n"
      ],
      "execution_count": null,
      "outputs": []
    },
    {
      "cell_type": "code",
      "metadata": {
        "id": "sF5qiWGLvei-"
      },
      "source": [
        "create_face_videos(video_files,'/content/drive/My Drive/DFDC_Face_only_data/')"
      ],
      "execution_count": null,
      "outputs": []
    }
  ]
}